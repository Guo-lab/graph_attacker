{
 "cells": [
  {
   "cell_type": "code",
   "execution_count": 7,
   "metadata": {},
   "outputs": [],
   "source": [
    "# import lib before build the nettack\n",
    "import numpy as np\n",
    "from matplotlib import pyplot as plt\n",
    "%matplotlib inline\n",
    "import nettack\n",
    "\n",
    "# from nettack import nettack as ntk"
   ]
  }
 ],
 "metadata": {
  "interpreter": {
   "hash": "e1f9beed4f60a23c7da123c517c33e2eb71a130983dbe95582c017ef3499bebd"
  },
  "kernelspec": {
   "display_name": "Python 3.7.0 ('att3.7')",
   "language": "python",
   "name": "python3"
  },
  "language_info": {
   "codemirror_mode": {
    "name": "ipython",
    "version": 3
   },
   "file_extension": ".py",
   "mimetype": "text/x-python",
   "name": "python",
   "nbconvert_exporter": "python",
   "pygments_lexer": "ipython3",
   "version": "3.7.0"
  },
  "orig_nbformat": 4
 },
 "nbformat": 4,
 "nbformat_minor": 2
}
