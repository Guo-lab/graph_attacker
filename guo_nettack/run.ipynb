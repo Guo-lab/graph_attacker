{
 "cells": [
  {
   "cell_type": "code",
   "execution_count": 1,
   "metadata": {},
   "outputs": [],
   "source": [
    "# import lib before build the nettack\n",
    "import numpy as np\n",
    "#//print(np.__version__)\n",
    "from matplotlib import pyplot as plt\n",
    "%matplotlib inline\n",
    "#//import nettack\n",
    "\n",
    "from nettack import utils\n",
    "# from nettack import nettack as ntk\n",
    "# from nettack import GCN\n",
    "\n",
    "gpu_id = None # set GPU ID to use GPU computations (only for GCN/surrogate training)"
   ]
  },
  {
   "cell_type": "code",
   "execution_count": 3,
   "metadata": {},
   "outputs": [
    {
     "name": "stdout",
     "output_type": "stream",
     "text": [
      "Selecting 1 largest connected components\n"
     ]
    }
   ],
   "source": [
    "_A_obs, _X_obs, _z_obs = utils.load_npz('data/cora.npz')\n",
    "\n",
    "#_A_obs, _X_obs, _z_obs = utils.load_data('cora')\n",
    "#_z_obs = np.loadtxt('./data-Fng/label.txt',dtype='float',delimiter=',')\n",
    "#//print(_A_obs)\n",
    "#//print(type(_z_obs))\n",
    "#//print(_z_obs)\n",
    "#//print(_z_obs.shape) # (2708, )\n",
    "#//print(_X_obs)\n",
    "#//print(_X_obs.shape)\n",
    "\n",
    "\n",
    "_A_obs = _A_obs + _A_obs.T\n",
    "_A_obs[_A_obs > 1] = 1\n",
    "lcc = utils.largest_connected_components(_A_obs)\n",
    "#//print(_z_obs.shape) # (2708, )\n",
    "#//print(lcc) # [0, 1, 2, 3, ..., 1998, 1999, 2000, ..., 2703, 2704, 2705, 2706, 2707]\n",
    "#//print(len(lcc)) # 2485\n",
    "\n",
    "## The Largest Connected Components makes the matrix 2708->2485\n",
    "_A_obs = _A_obs[lcc][:,lcc]\n",
    "#//print(_A_obs.shape) # (2485, 2485)\n",
    "\n",
    "assert np.abs(_A_obs - _A_obs.T).sum() == 0, \"Input graph is not symmetric\"\n",
    "assert _A_obs.max() == 1 and len(np.unique(_A_obs[_A_obs.nonzero()].A1)) == 1, \"Graph must be unweighted\"\n",
    "assert _A_obs.sum(0).A1.min() > 0, \"Graph contains singleton nodes\"\n",
    "\n",
    "_X_obs = _X_obs[lcc].astype('float32')\n",
    "_z_obs = _z_obs[lcc]\n",
    "\n",
    "#//print(_z_obs) # labels : [5 2 0 ... 2 2 2]\n",
    "#//print(_z_obs.shape) # shape: (2485,)\n",
    "\n",
    "_N = _A_obs.shape[0]\n",
    "\n",
    "\n",
    "\n",
    "_K = _z_obs.max()+1\n",
    "#//print(_z_obs.max()) # 6/6.0\n",
    "#//print(_K) # 7.0\n",
    "_K = int(_K)\n",
    "#//print(_K) # 7\n",
    "_z_obs = _z_obs.astype(dtype=\"int\")\n",
    "#//print(_z_obs) # [5 2 0 ... 2 2 2]\n",
    "\n",
    "\n",
    "\n",
    "_Z_obs = np.eye(_K)[_z_obs]\n",
    "_An = utils.preprocess_graph(_A_obs) # Normalized\n",
    "sizes = [16, _K]\n",
    "degrees = _A_obs.sum(0).A1\n",
    "\n",
    "\n",
    "\n",
    "unlabeled_share = 0.8\n",
    "val_share = 0.1\n",
    "train_share = 1 - unlabeled_share - val_share\n",
    "#//seed = 15\n",
    "#//np.random.seed(seed)\n",
    "split_train, split_val, split_unlabeled \\\n",
    "    = utils.train_val_test_split_tabular(np.arange(_N),\n",
    "                                         train_size=train_share,\n",
    "                                         val_size=val_share,\n",
    "                                         test_size=unlabeled_share,\n",
    "                                         stratify=_z_obs\n",
    "                                        )"
   ]
  }
 ],
 "metadata": {
  "interpreter": {
   "hash": "e1f9beed4f60a23c7da123c517c33e2eb71a130983dbe95582c017ef3499bebd"
  },
  "kernelspec": {
   "display_name": "Python 3.7.0 ('att3.7')",
   "language": "python",
   "name": "python3"
  },
  "language_info": {
   "codemirror_mode": {
    "name": "ipython",
    "version": 3
   },
   "file_extension": ".py",
   "mimetype": "text/x-python",
   "name": "python",
   "nbconvert_exporter": "python",
   "pygments_lexer": "ipython3",
   "version": "3.7.0"
  },
  "orig_nbformat": 4
 },
 "nbformat": 4,
 "nbformat_minor": 2
}
